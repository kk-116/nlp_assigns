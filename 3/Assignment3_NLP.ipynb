{
  "cells": [
    {
      "cell_type": "code",
      "execution_count": 2,
      "metadata": {
        "id": "PGgzEh0Y5yK1"
      },
      "outputs": [],
      "source": [
        "import nltk"
      ]
    },
    {
      "cell_type": "code",
      "execution_count": 3,
      "metadata": {
        "id": "feTGK7FXwXse"
      },
      "outputs": [
        {
          "name": "stderr",
          "output_type": "stream",
          "text": [
            "[nltk_data] Downloading package semcor to /home/krishna/nltk_data...\n"
          ]
        },
        {
          "data": {
            "text/plain": [
              "True"
            ]
          },
          "execution_count": 3,
          "metadata": {},
          "output_type": "execute_result"
        }
      ],
      "source": [
        "import os\n",
        "from itertools import chain\n",
        "import re, math\n",
        "from collections import Counter\n",
        "import pandas as pd"
      ]
    },
    {
      "cell_type": "code",
      "execution_count": 4,
      "metadata": {
        "id": "kbrEBGaw6Nb7"
      },
      "outputs": [],
      "source": [
        "#following codeblockas are adapted from the github repo https://github.com/alvations/pywsd\n",
        "\n",
        "from nltk.corpus import wordnet as wn\n",
        "from nltk.tokenize import word_tokenize\n",
        "from nltk import pos_tag\n",
        "\n",
        "from nltk.stem import WordNetLemmatizer\n",
        "from nltk.stem import PorterStemmer\n",
        "\n",
        "from nltk.corpus import stopwords\n",
        "from string import punctuation\n",
        "pywsd_stopwords = [u\"'s\", u\"``\", u\"`\"]\n",
        "EN_STOPWORDS = set(stopwords.words('english') + list(punctuation) + pywsd_stopwords)"
      ]
    },
    {
      "cell_type": "code",
      "execution_count": 5,
      "metadata": {
        "id": "ktrNur30H6c3"
      },
      "outputs": [],
      "source": [
        "def penn2morphy(penntag) -> str:\n",
        "    \"\"\"\n",
        "    Converts tags from Penn format (input: single string) to Morphy.\n",
        "    \"\"\"\n",
        "    morphy_tag = {'NN':'n', 'JJ':'a', 'VB':'v', 'RB':'r'}\n",
        "    try:\n",
        "        return morphy_tag[penntag[:2]]\n",
        "    except:\n",
        "        return 'n'"
      ]
    },
    {
      "cell_type": "code",
      "execution_count": 6,
      "metadata": {
        "id": "KpCFLDumFh4E"
      },
      "outputs": [],
      "source": [
        "wnl = WordNetLemmatizer()\n",
        "porter = PorterStemmer()\n",
        "\n",
        "def lemmatize(ambiguous_word: str, pos: str = None,\n",
        "              lemmatizer=wnl, stemmer=porter) -> str:\n",
        "    \"\"\"\n",
        "    Tries to convert a surface word into lemma, and if lemmatize word is not in\n",
        "    wordnet then try and convert surface word into its stem.\n",
        "    This is to handle the case where users input a surface word as an ambiguous\n",
        "    word and the surface word is a not a lemma.\n",
        "    \"\"\"\n",
        "\n",
        "    # Try to be a little smarter and use most frequent POS.\n",
        "    pos = pos if pos else penn2morphy(pos_tag([ambiguous_word])[0][1])\n",
        "    lemma = lemmatizer.lemmatize(ambiguous_word, pos=pos)\n",
        "    stem = stemmer.stem(ambiguous_word)\n",
        "    # Ensure that ambiguous word is a lemma.\n",
        "    if not wn.synsets(lemma):\n",
        "        if not wn.synsets(stem):\n",
        "            return ambiguous_word\n",
        "        else:\n",
        "            return stem\n",
        "    else:\n",
        "        return lemma"
      ]
    },
    {
      "cell_type": "code",
      "execution_count": 7,
      "metadata": {
        "id": "IX_Rq_IVFTWQ"
      },
      "outputs": [],
      "source": [
        "def lemmatize_sentence(sentence: str,\n",
        "                       tokenizer=word_tokenize, postagger=pos_tag,\n",
        "                       lemmatizer=wnl, stemmer=porter) -> list:\n",
        "\n",
        "    words, lemmas, poss = [], [], []\n",
        "    for word, pos in postagger(tokenizer(sentence)):\n",
        "        pos = penn2morphy(pos)\n",
        "        lemmas.append(lemmatize(word.lower(), pos,\n",
        "                                lemmatizer, stemmer))\n",
        "        poss.append(pos)\n",
        "        words.append(word)\n",
        "\n",
        "    \n",
        "    return words, lemmas, poss"
      ]
    },
    {
      "cell_type": "code",
      "execution_count": 8,
      "metadata": {
        "id": "wG40Mpv848Kr"
      },
      "outputs": [],
      "source": [
        "def synset_signatures(ss: \"wn.Synset\") -> set:\n",
        "    \"\"\"\n",
        "    Takes a Synset and returns its signature words.\n",
        "    :param ss: An instance of wn.Synset.\n",
        "    :return: A set of signature strings\n",
        "    \"\"\"\n",
        "\n",
        "    # Collects the signatures from WordNet.\n",
        "    signature = []\n",
        "\n",
        "    # Adds the definition, example sentences and lemma_names.\n",
        "    signature += word_tokenize(ss.definition())\n",
        "\n",
        "    # Adds the examples and lemma names.\n",
        "    signature += chain(*[word_tokenize(eg) for eg in ss.examples()])\n",
        "    signature += ss.lemma_names()\n",
        "\n",
        "    # Includes lemma_names of hyper-/hyponyms.\n",
        "    \n",
        "    hyperhyponyms = set(ss.hyponyms() + ss.hypernyms() + ss.instance_hyponyms() + ss.instance_hypernyms())\n",
        "    signature += set(chain(*[i.lemma_names() for i in hyperhyponyms]))\n",
        "\n",
        "    # Lowercase.\n",
        "    signature = set(s.lower() for s in signature) \n",
        "\n",
        "    # Removes stopwords.\n",
        "    signature = set(signature).difference(EN_STOPWORDS) \n",
        "\n",
        "    # Lemmatized context is preferred over stemmed context.\n",
        "    signature = [lemmatize(s) \n",
        "                  for s in signature\n",
        "                  if not (s.isdigit())]\n",
        "\n",
        "    # Keep only the unique bag-of-words\n",
        "    return set(signature)"
      ]
    },
    {
      "cell_type": "code",
      "execution_count": 10,
      "metadata": {
        "id": "2AUYSXtg4xcW"
      },
      "outputs": [],
      "source": [
        "def signatures(ambiguous_word: str, pos: str = None) -> dict:\n",
        "    \"\"\"\n",
        "    Takes an ambiguous word and optionally its Part-Of-Speech and returns\n",
        "    a dictionary where keys are the synsets and values are sets of signatures.\n",
        "    :param ambiguous_word: String, a single word.\n",
        "    :param pos: String, one of 'a', 'r', 's', 'n', 'v', or None.\n",
        "    :return: dict(synset:{signatures}).\n",
        "    \"\"\"\n",
        "\n",
        "    # Ensure that the POS is supported.\n",
        "    # pos = pos if pos in ['a', 'r', 's', 'n', 'v', None] else None\n",
        "    pos = pos if pos in ['n', None] else None\n",
        "    # If the POS specified isn't found but other POS is in wordnet.\n",
        "    if not wn.synsets(ambiguous_word, pos) and wn.synsets(ambiguous_word):\n",
        "        pos = None\n",
        "\n",
        "    # Holds the synset->signature dictionary.\n",
        "    ss_sign = {}\n",
        "    for ss in wn.synsets(ambiguous_word, pos):\n",
        "        ss_sign[ss] = synset_signatures(ss)\n",
        "\n",
        "    return ss_sign"
      ]
    },
    {
      "cell_type": "code",
      "execution_count": 11,
      "metadata": {
        "id": "wdCIM_uW6T9E"
      },
      "outputs": [],
      "source": [
        "def cosine_similarity(sent1: str, sent2: str) -> float:\n",
        "    \"\"\"\n",
        "    Calculates cosine similarity between 2 sentences/documents.\n",
        "    Thanks to @vpekar, see http://goo.gl/ykibJY\n",
        "    \"\"\"\n",
        "\n",
        "    WORD = re.compile(r'\\w+')\n",
        "    def get_cosine(vec1, vec2):\n",
        "        intersection = set(vec1.keys()) & set(vec2.keys())\n",
        "        numerator = sum([vec1[x] * vec2[x] for x in intersection])\n",
        "\n",
        "        sum1 = sum([vec1[x]**2 for x in vec1.keys()])\n",
        "        sum2 = sum([vec2[x]**2 for x in vec2.keys()])\n",
        "        denominator = math.sqrt(sum1) * math.sqrt(sum2)\n",
        "\n",
        "        if not denominator:\n",
        "            return 0.0\n",
        "        else:\n",
        "            return float(numerator) / denominator\n",
        "\n",
        "    def text_to_vector(text):\n",
        "        words = WORD.findall(text)\n",
        "        return Counter(words)\n",
        "\n",
        "    vector1 = text_to_vector(sent1)\n",
        "    vector2 = text_to_vector(sent2)\n",
        "    cosine = get_cosine(vector1, vector2)\n",
        "\n",
        "    return cosine"
      ]
    },
    {
      "cell_type": "code",
      "execution_count": 12,
      "metadata": {
        "id": "wfrPyRCj4bnY"
      },
      "outputs": [],
      "source": [
        "def e_lesk(context_sentence: str, ambiguous_word: str,\n",
        "                pos: str = None) -> \"wn.Synset\":\n",
        "    \"\"\"\n",
        "    In line with vector space models, we can use cosine to calculate overlaps\n",
        "    instead of using raw overlap counts. Essentially, the idea of using\n",
        "    signatures (aka 'sense paraphrases') is lesk-like.\n",
        "    :param context_sentence: String, sentence or document.\n",
        "    :param ambiguous_word: String, a single word.\n",
        "    :param pos: String, one of 'a', 'r', 's', 'n', 'v', or None.\n",
        "    :return: A Synset for the estimated best sense.\n",
        "    \"\"\"\n",
        "\n",
        "    # Ensure that ambiguous word is a lemma.\n",
        "    ambiguous_word = lemmatize(ambiguous_word)\n",
        "\n",
        "    # If ambiguous word not in WordNet return None\n",
        "    if not wn.synsets(ambiguous_word):\n",
        "        return None\n",
        "    ss_sign = signatures(ambiguous_word, pos)\n",
        "\n",
        "    surface_words, lemmas, morphy_poss = lemmatize_sentence(context_sentence)\n",
        "    \n",
        "    context_sentence = \" \".join(lemmas)\n",
        "\n",
        "    scores = []\n",
        "    for ss, signature in ss_sign.items():\n",
        "        # Lowercase and replace \"_\" with spaces.\n",
        "        signature = \" \".join(map(str, signature)).lower().replace(\"_\", \" \")\n",
        "        scores.append((cosine_similarity(context_sentence, signature), ss))\n",
        "\n",
        "    scores = sorted(scores, reverse=True)\n",
        "    return scores[0][1]"
      ]
    },
    {
      "cell_type": "code",
      "execution_count": 13,
      "metadata": {
        "id": "snUurbZsBOhA"
      },
      "outputs": [],
      "source": [
        "def disambiguate(sentence, algorithm=e_lesk,\n",
        "                 tokenizer=word_tokenize):\n",
        "\n",
        "    tagged_sentence = []\n",
        "    # Pre-lemmatize the sentnece before WSD\n",
        "    \n",
        "    surface_words, lemmas, morphy_poss = lemmatize_sentence(sentence, tokenizer=tokenizer)\n",
        "    lemma_sentence = \" \".join(lemmas)\n",
        "\n",
        "    for word, lemma, pos in zip(surface_words, lemmas, morphy_poss):\n",
        "        if lemma not in EN_STOPWORDS: # Checks if it is a content word\n",
        "            if wn.synsets(lemma):\n",
        "                synset = algorithm(lemma_sentence, lemma, pos=pos)\n",
        "            else: # In case the content word is not in WordNet.\n",
        "                synset = '#NOT_IN_WN#'\n",
        "        else:\n",
        "            synset = '#STOPWORD/PUNCTUATION#'\n",
        "        \n",
        "        tagged_sentence.append((word, synset))\n",
        "\n",
        "    # Change #NOT_IN_WN# and #STOPWORD/PUNCTUATION# into None.\n",
        "    tagged_sentence = [(word, None) if str(tag).startswith('#')\n",
        "                        else (word, tag, tag.definition()) for word, tag in tagged_sentence]\n",
        "    return tagged_sentence"
      ]
    },
    {
      "cell_type": "code",
      "execution_count": 14,
      "metadata": {
        "colab": {
          "base_uri": "https://localhost:8080/"
        },
        "id": "dLwNmX4MD7Qv",
        "outputId": "4ecfc294-b96a-4548-a37f-80436f81438d"
      },
      "outputs": [
        {
          "ename": "LookupError",
          "evalue": "\n**********************************************************************\n  Resource \u001b[93maveraged_perceptron_tagger\u001b[0m not found.\n  Please use the NLTK Downloader to obtain the resource:\n\n  \u001b[31m>>> import nltk\n  >>> nltk.download('averaged_perceptron_tagger')\n  \u001b[0m\n  For more information see: https://www.nltk.org/data.html\n\n  Attempted to load \u001b[93mtaggers/averaged_perceptron_tagger/averaged_perceptron_tagger.pickle\u001b[0m\n\n  Searched in:\n    - '/home/krishna/nltk_data'\n    - '/usr/nltk_data'\n    - '/usr/share/nltk_data'\n    - '/usr/lib/nltk_data'\n    - '/usr/share/nltk_data'\n    - '/usr/local/share/nltk_data'\n    - '/usr/lib/nltk_data'\n    - '/usr/local/lib/nltk_data'\n**********************************************************************\n",
          "output_type": "error",
          "traceback": [
            "\u001b[0;31m---------------------------------------------------------------------------\u001b[0m",
            "\u001b[0;31mLookupError\u001b[0m                               Traceback (most recent call last)",
            "Cell \u001b[0;32mIn [14], line 1\u001b[0m\n\u001b[0;32m----> 1\u001b[0m disambiguate(\u001b[39m\"\u001b[39;49m\u001b[39mI went to the bank to deposit my money\u001b[39;49m\u001b[39m\"\u001b[39;49m)\n",
            "Cell \u001b[0;32mIn [13], line 7\u001b[0m, in \u001b[0;36mdisambiguate\u001b[0;34m(sentence, algorithm, tokenizer)\u001b[0m\n\u001b[1;32m      4\u001b[0m tagged_sentence \u001b[39m=\u001b[39m []\n\u001b[1;32m      5\u001b[0m \u001b[39m# Pre-lemmatize the sentnece before WSD\u001b[39;00m\n\u001b[0;32m----> 7\u001b[0m surface_words, lemmas, morphy_poss \u001b[39m=\u001b[39m lemmatize_sentence(sentence, tokenizer\u001b[39m=\u001b[39;49mtokenizer)\n\u001b[1;32m      8\u001b[0m lemma_sentence \u001b[39m=\u001b[39m \u001b[39m\"\u001b[39m\u001b[39m \u001b[39m\u001b[39m\"\u001b[39m\u001b[39m.\u001b[39mjoin(lemmas)\n\u001b[1;32m     10\u001b[0m \u001b[39mfor\u001b[39;00m word, lemma, pos \u001b[39min\u001b[39;00m \u001b[39mzip\u001b[39m(surface_words, lemmas, morphy_poss):\n",
            "Cell \u001b[0;32mIn [7], line 6\u001b[0m, in \u001b[0;36mlemmatize_sentence\u001b[0;34m(sentence, tokenizer, postagger, lemmatizer, stemmer)\u001b[0m\n\u001b[1;32m      1\u001b[0m \u001b[39mdef\u001b[39;00m \u001b[39mlemmatize_sentence\u001b[39m(sentence: \u001b[39mstr\u001b[39m,\n\u001b[1;32m      2\u001b[0m                        tokenizer\u001b[39m=\u001b[39mword_tokenize, postagger\u001b[39m=\u001b[39mpos_tag,\n\u001b[1;32m      3\u001b[0m                        lemmatizer\u001b[39m=\u001b[39mwnl, stemmer\u001b[39m=\u001b[39mporter) \u001b[39m-\u001b[39m\u001b[39m>\u001b[39m \u001b[39mlist\u001b[39m:\n\u001b[1;32m      5\u001b[0m     words, lemmas, poss \u001b[39m=\u001b[39m [], [], []\n\u001b[0;32m----> 6\u001b[0m     \u001b[39mfor\u001b[39;00m word, pos \u001b[39min\u001b[39;00m postagger(tokenizer(sentence)):\n\u001b[1;32m      7\u001b[0m         pos \u001b[39m=\u001b[39m penn2morphy(pos)\n\u001b[1;32m      8\u001b[0m         lemmas\u001b[39m.\u001b[39mappend(lemmatize(word\u001b[39m.\u001b[39mlower(), pos,\n\u001b[1;32m      9\u001b[0m                                 lemmatizer, stemmer))\n",
            "File \u001b[0;32m~/.local/lib/python3.10/site-packages/nltk/tag/__init__.py:165\u001b[0m, in \u001b[0;36mpos_tag\u001b[0;34m(tokens, tagset, lang)\u001b[0m\n\u001b[1;32m    140\u001b[0m \u001b[39mdef\u001b[39;00m \u001b[39mpos_tag\u001b[39m(tokens, tagset\u001b[39m=\u001b[39m\u001b[39mNone\u001b[39;00m, lang\u001b[39m=\u001b[39m\u001b[39m\"\u001b[39m\u001b[39meng\u001b[39m\u001b[39m\"\u001b[39m):\n\u001b[1;32m    141\u001b[0m     \u001b[39m\"\"\"\u001b[39;00m\n\u001b[1;32m    142\u001b[0m \u001b[39m    Use NLTK's currently recommended part of speech tagger to\u001b[39;00m\n\u001b[1;32m    143\u001b[0m \u001b[39m    tag the given list of tokens.\u001b[39;00m\n\u001b[0;32m   (...)\u001b[0m\n\u001b[1;32m    163\u001b[0m \u001b[39m    :rtype: list(tuple(str, str))\u001b[39;00m\n\u001b[1;32m    164\u001b[0m \u001b[39m    \"\"\"\u001b[39;00m\n\u001b[0;32m--> 165\u001b[0m     tagger \u001b[39m=\u001b[39m _get_tagger(lang)\n\u001b[1;32m    166\u001b[0m     \u001b[39mreturn\u001b[39;00m _pos_tag(tokens, tagset, tagger, lang)\n",
            "File \u001b[0;32m~/.local/lib/python3.10/site-packages/nltk/tag/__init__.py:107\u001b[0m, in \u001b[0;36m_get_tagger\u001b[0;34m(lang)\u001b[0m\n\u001b[1;32m    105\u001b[0m     tagger\u001b[39m.\u001b[39mload(ap_russian_model_loc)\n\u001b[1;32m    106\u001b[0m \u001b[39melse\u001b[39;00m:\n\u001b[0;32m--> 107\u001b[0m     tagger \u001b[39m=\u001b[39m PerceptronTagger()\n\u001b[1;32m    108\u001b[0m \u001b[39mreturn\u001b[39;00m tagger\n",
            "File \u001b[0;32m~/.local/lib/python3.10/site-packages/nltk/tag/perceptron.py:167\u001b[0m, in \u001b[0;36mPerceptronTagger.__init__\u001b[0;34m(self, load)\u001b[0m\n\u001b[1;32m    164\u001b[0m \u001b[39mself\u001b[39m\u001b[39m.\u001b[39mclasses \u001b[39m=\u001b[39m \u001b[39mset\u001b[39m()\n\u001b[1;32m    165\u001b[0m \u001b[39mif\u001b[39;00m load:\n\u001b[1;32m    166\u001b[0m     AP_MODEL_LOC \u001b[39m=\u001b[39m \u001b[39m\"\u001b[39m\u001b[39mfile:\u001b[39m\u001b[39m\"\u001b[39m \u001b[39m+\u001b[39m \u001b[39mstr\u001b[39m(\n\u001b[0;32m--> 167\u001b[0m         find(\u001b[39m\"\u001b[39;49m\u001b[39mtaggers/averaged_perceptron_tagger/\u001b[39;49m\u001b[39m\"\u001b[39;49m \u001b[39m+\u001b[39;49m PICKLE)\n\u001b[1;32m    168\u001b[0m     )\n\u001b[1;32m    169\u001b[0m     \u001b[39mself\u001b[39m\u001b[39m.\u001b[39mload(AP_MODEL_LOC)\n",
            "File \u001b[0;32m~/.local/lib/python3.10/site-packages/nltk/data.py:583\u001b[0m, in \u001b[0;36mfind\u001b[0;34m(resource_name, paths)\u001b[0m\n\u001b[1;32m    581\u001b[0m sep \u001b[39m=\u001b[39m \u001b[39m\"\u001b[39m\u001b[39m*\u001b[39m\u001b[39m\"\u001b[39m \u001b[39m*\u001b[39m \u001b[39m70\u001b[39m\n\u001b[1;32m    582\u001b[0m resource_not_found \u001b[39m=\u001b[39m \u001b[39mf\u001b[39m\u001b[39m\"\u001b[39m\u001b[39m\\n\u001b[39;00m\u001b[39m{\u001b[39;00msep\u001b[39m}\u001b[39;00m\u001b[39m\\n\u001b[39;00m\u001b[39m{\u001b[39;00mmsg\u001b[39m}\u001b[39;00m\u001b[39m\\n\u001b[39;00m\u001b[39m{\u001b[39;00msep\u001b[39m}\u001b[39;00m\u001b[39m\\n\u001b[39;00m\u001b[39m\"\u001b[39m\n\u001b[0;32m--> 583\u001b[0m \u001b[39mraise\u001b[39;00m \u001b[39mLookupError\u001b[39;00m(resource_not_found)\n",
            "\u001b[0;31mLookupError\u001b[0m: \n**********************************************************************\n  Resource \u001b[93maveraged_perceptron_tagger\u001b[0m not found.\n  Please use the NLTK Downloader to obtain the resource:\n\n  \u001b[31m>>> import nltk\n  >>> nltk.download('averaged_perceptron_tagger')\n  \u001b[0m\n  For more information see: https://www.nltk.org/data.html\n\n  Attempted to load \u001b[93mtaggers/averaged_perceptron_tagger/averaged_perceptron_tagger.pickle\u001b[0m\n\n  Searched in:\n    - '/home/krishna/nltk_data'\n    - '/usr/nltk_data'\n    - '/usr/share/nltk_data'\n    - '/usr/lib/nltk_data'\n    - '/usr/share/nltk_data'\n    - '/usr/local/share/nltk_data'\n    - '/usr/lib/nltk_data'\n    - '/usr/local/lib/nltk_data'\n**********************************************************************\n"
          ]
        }
      ],
      "source": [
        "disambiguate(\"I went to the bank to deposit my money\")"
      ]
    },
    {
      "cell_type": "code",
      "execution_count": null,
      "metadata": {
        "id": "w3KhxzM7Rp-j"
      },
      "outputs": [],
      "source": []
    }
  ],
  "metadata": {
    "colab": {
      "provenance": []
    },
    "kernelspec": {
      "display_name": "Python 3.10.6 64-bit",
      "language": "python",
      "name": "python3"
    },
    "language_info": {
      "codemirror_mode": {
        "name": "ipython",
        "version": 3
      },
      "file_extension": ".py",
      "mimetype": "text/x-python",
      "name": "python",
      "nbconvert_exporter": "python",
      "pygments_lexer": "ipython3",
      "version": "3.10.6"
    },
    "vscode": {
      "interpreter": {
        "hash": "916dbcbb3f70747c44a77c7bcd40155683ae19c65e1c03b4aa3499c5328201f1"
      }
    }
  },
  "nbformat": 4,
  "nbformat_minor": 0
}
